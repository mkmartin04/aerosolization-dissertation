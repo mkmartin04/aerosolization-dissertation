{
 "cells": [
  {
   "cell_type": "code",
   "execution_count": 1,
   "id": "4cbecb5e",
   "metadata": {},
   "outputs": [],
   "source": [
    "# https://github.com/asfadmin/Discovery-asf_search/blob/master/examples/5-Download.ipynb\n",
    "import asf_search as asf\n",
    "from pathlib import Path\n",
    "from shapely.geometry import shape"
   ]
  },
  {
   "cell_type": "code",
   "execution_count": 3,
   "id": "91d58c10",
   "metadata": {},
   "outputs": [
    {
     "name": "stdout",
     "output_type": "stream",
     "text": [
      "Username:m.martin04\n",
      "Password:········\n",
      "Success!\n"
     ]
    }
   ],
   "source": [
    "import getpass\n",
    "\n",
    "username = input('Username:')\n",
    "password = getpass.getpass('Password:')\n",
    "\n",
    "try:\n",
    "    user_pass_session = asf.ASFSession().auth_with_creds(username, password)\n",
    "except asf.ASFAuthenticationError as e:\n",
    "    print(f'Auth failed: {e}')\n",
    "else:\n",
    "    print('Success!')"
   ]
  },
  {
   "cell_type": "code",
   "execution_count": 4,
   "id": "04e8d46f",
   "metadata": {},
   "outputs": [],
   "source": [
    "session = asf.ASFSession().auth_with_creds(username=username, password=password)"
   ]
  },
  {
   "cell_type": "code",
   "execution_count": 8,
   "id": "3b145bae",
   "metadata": {},
   "outputs": [],
   "source": [
    "# POLYGON from https://search.asf.alaska.edu/#/\n",
    "aoi = 'POLYGON((120.7336 36.3509,120.7898 36.3498,120.7921 36.426,120.7438 36.4191,120.7237 36.3821,120.7336 36.3509))'\n",
    "sen = asf.PLATFORM.SENTINEL1\n",
    "ocn = asf.PRODUCT_TYPE.OCN"
   ]
  },
  {
   "cell_type": "code",
   "execution_count": 9,
   "id": "dd14d144",
   "metadata": {},
   "outputs": [
    {
     "name": "stdout",
     "output_type": "stream",
     "text": [
      "124 results found\n"
     ]
    }
   ],
   "source": [
    "results = asf.geo_search(\n",
    "    intersectsWith = aoi,\n",
    "    platform = sen,\n",
    "    processingLevel= ocn,\n",
    "    start='2019-01-01T00:00:00Z',\n",
    "    end = '2019-31-12T23:59:59Z')\n",
    "\n",
    "print(f'{len(results)} results found')"
   ]
  },
  {
   "cell_type": "code",
   "execution_count": 10,
   "id": "8a4eeb2f",
   "metadata": {},
   "outputs": [],
   "source": [
    "results.download(\n",
    "    path='2019',\n",
    "    session=session,\n",
    "    processes=10)"
   ]
  },
  {
   "cell_type": "raw",
   "id": "f1ca4078",
   "metadata": {},
   "source": [
    "from os import listdir\n",
    "import getpass\n",
    "username = input('Username:')\n",
    "password = getpass.getpass('Password:')\n",
    "\n",
    "import asf_search as asf\n",
    "\n",
    "session = asf.ASFSession().auth_with_creds(username=username, password=password)\n",
    "\n",
    "results = asf.geo_search(\n",
    "    intersectsWith='POLYGON((-91.97 28.78,-88.85 28.78,-88.85 30.31,-91.97 30.31,-91.97 28.78))',\n",
    "    platform=asf.PLATFORM.UAVSAR,\n",
    "    processingLevel=asf.PRODUCT_TYPE.METADATA,\n",
    "    maxResults=20)\n",
    "\n",
    "results.download(\n",
    "    path='./downloads',\n",
    "    session=session,\n",
    "    processes=10)\n",
    "\n",
    "listdir('./downloads')"
   ]
  }
 ],
 "metadata": {
  "kernelspec": {
   "display_name": "Python 3 (ipykernel)",
   "language": "python",
   "name": "python3"
  },
  "language_info": {
   "codemirror_mode": {
    "name": "ipython",
    "version": 3
   },
   "file_extension": ".py",
   "mimetype": "text/x-python",
   "name": "python",
   "nbconvert_exporter": "python",
   "pygments_lexer": "ipython3",
   "version": "3.11.5"
  }
 },
 "nbformat": 4,
 "nbformat_minor": 5
}
